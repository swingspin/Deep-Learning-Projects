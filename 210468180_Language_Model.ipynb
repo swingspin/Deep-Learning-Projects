{
  "cells": [
    {
      "cell_type": "markdown",
      "metadata": {
        "id": "6BOirPBvCI63"
      },
      "source": [
        "# CSC8637 - Deep Learning - Task 3 - Language Model\n",
        "\n",
        "### A language text model using the text from the book “Poirot Investigates” by Agatha Christie (code run on Google Collab)\n",
        "\n"
      ]
    },
    {
      "cell_type": "code",
      "execution_count": 1,
      "metadata": {
        "colab": {
          "base_uri": "https://localhost:8080/"
        },
        "id": "lLdsKCVaTqz-",
        "outputId": "311f329c-57d2-4b5d-d299-ad02fe359d9f"
      },
      "outputs": [
        {
          "name": "stdout",
          "output_type": "stream",
          "text": [
            "Mounted at /content/drive\n"
          ]
        }
      ],
      "source": [
        "# use of g-drive\n",
        "#from google.colab import drive\n",
        "#drive.mount('/content/drive')"
      ]
    },
    {
      "cell_type": "code",
      "execution_count": 2,
      "metadata": {
        "id": "fDbkVwQp7r9O"
      },
      "outputs": [],
      "source": [
        "# Import modules\n",
        "import os\n",
        "import nltk\n",
        "import tensorflow as tf\n",
        "import numpy as np\n",
        "import pandas\n",
        "from tensorflow.keras.layers.experimental import preprocessing"
      ]
    },
    {
      "cell_type": "code",
      "execution_count": 3,
      "metadata": {
        "colab": {
          "base_uri": "https://localhost:8080/"
        },
        "id": "yk4PoE8kfvVs",
        "outputId": "8372930c-2928-4370-d078-4a6cd72c82cc"
      },
      "outputs": [
        {
          "name": "stdout",
          "output_type": "stream",
          "text": [
            "Downloading data from https://www.gutenberg.org/files/61262/61262-0.txt\n",
            "335872/334621 [==============================] - 0s 0us/step\n",
            "344064/334621 [==============================] - 0s 0us/step\n",
            "The ebook has 324542 characters\n",
            "There are 105 unique characters\n"
          ]
        }
      ],
      "source": [
        "# Load the ebook (format:txt,online)\n",
        "text_data = tf.keras.utils.get_file('61262-0.txt', 'https://www.gutenberg.org/files/61262/61262-0.txt')\n",
        "\n",
        "# Read and decode the file\n",
        "book = open(text_data, 'rb').read().decode(encoding='utf-8')\n",
        "\n",
        "# Print the length of text\n",
        "print('The ebook has {} characters'.format(len(book)))\n",
        "\n",
        "# Print the unique characters\n",
        "vocab = sorted(set(book))\n",
        "print('There are {} unique characters'.format(len(vocab)))"
      ]
    },
    {
      "cell_type": "code",
      "execution_count": 4,
      "metadata": {
        "colab": {
          "base_uri": "https://localhost:8080/"
        },
        "id": "CYeNXePBf9z0",
        "outputId": "a37f5b99-9448-4196-f926-e2398cefe4bd"
      },
      "outputs": [
        {
          "name": "stdout",
          "output_type": "stream",
          "text": [
            "The Project Gutenberg EBook of Poirot Investigates, by Agatha Christie\r\n",
            "\r\n",
            "This eBook is for the use of anyone anywhere in the United States and most\r\n",
            "other parts of the world at no cost and with almost no restrictions\r\n",
            "whatsoever.  You may copy it, give it away or re-use it under the terms of\r\n",
            "the Project Gutenberg License included with this eBook or online at\r\n",
            "www.gutenberg.org.  If you are not located in the United States, you'll have\r\n",
            "to check the laws of the country where you are located before using this ebook.\r\n",
            "\n"
          ]
        }
      ],
      "source": [
        "# An overview of the data\n",
        "print(book[:524])"
      ]
    },
    {
      "cell_type": "code",
      "execution_count": 5,
      "metadata": {
        "id": "d-VscsDIvmbQ"
      },
      "outputs": [],
      "source": [
        "# Character to index\n",
        "chartoindex = {v:i for i,v in enumerate(vocab)}\n",
        "int_text = np.array([chartoindex[i] for i in book])\n",
        "\n",
        "# Index to character \n",
        "indextochar = np.array(vocab)"
      ]
    },
    {
      "cell_type": "code",
      "execution_count": 6,
      "metadata": {
        "colab": {
          "base_uri": "https://localhost:8080/"
        },
        "id": "M76RYIlNv-dc",
        "outputId": "18836d55-7ff4-4b9f-9306-2b7a98116028"
      },
      "outputs": [
        {
          "name": "stdout",
          "output_type": "stream",
          "text": [
            "Character to index: \n",
            "\n",
            "  '\\n':   0\n",
            "  '\\r':   1\n",
            "  ' ' :   2\n",
            "  '!' :   3\n",
            "  '\"' :   4\n",
            "  '#' :   5\n",
            "  '$' :   6\n",
            "  '%' :   7\n",
            "  '&' :   8\n",
            "  \"'\" :   9\n",
            "  '(' :  10\n",
            "  ')' :  11\n",
            "  '*' :  12\n",
            "  ',' :  13\n",
            "  '-' :  14\n",
            "  '.' :  15\n",
            "  '/' :  16\n",
            "  '0' :  17\n",
            "  '1' :  18\n",
            "  '2' :  19\n",
            "  '3' :  20\n",
            "  '4' :  21\n",
            "  '5' :  22\n",
            "  '6' :  23\n",
            "  '7' :  24\n",
            "  '8' :  25\n",
            "  '9' :  26\n",
            "  ':' :  27\n",
            "  ';' :  28\n",
            "  '?' :  29\n",
            "  '@' :  30\n",
            "  'A' :  31\n",
            "  'B' :  32\n",
            "  'C' :  33\n",
            "  'D' :  34\n",
            "  'E' :  35\n",
            "  'F' :  36\n",
            "  'G' :  37\n",
            "  'H' :  38\n",
            "  'I' :  39\n",
            "  'J' :  40\n",
            "  'K' :  41\n",
            "  'L' :  42\n",
            "  'M' :  43\n",
            "  'N' :  44\n",
            "  'O' :  45\n",
            "  'P' :  46\n",
            "  'Q' :  47\n",
            "  'R' :  48\n",
            "  'S' :  49\n",
            "  'T' :  50\n",
            "  'U' :  51\n",
            "  'V' :  52\n",
            "  'W' :  53\n",
            "  'X' :  54\n",
            "  'Y' :  55\n",
            "  'Z' :  56\n",
            "  '[' :  57\n",
            "  ']' :  58\n",
            "  '_' :  59\n",
            "  'a' :  60\n",
            "  'b' :  61\n",
            "  'c' :  62\n",
            "  'd' :  63\n",
            "  'e' :  64\n",
            "  'f' :  65\n",
            "  'g' :  66\n",
            "  'h' :  67\n",
            "  'i' :  68\n",
            "  'j' :  69\n",
            "  'k' :  70\n",
            "  'l' :  71\n",
            "  'm' :  72\n",
            "  'n' :  73\n",
            "  'o' :  74\n",
            "  'p' :  75\n",
            "  'q' :  76\n",
            "  'r' :  77\n",
            "  's' :  78\n",
            "  't' :  79\n",
            "  'u' :  80\n",
            "  'v' :  81\n",
            "  'w' :  82\n",
            "  'x' :  83\n",
            "  'y' :  84\n",
            "  'z' :  85\n",
            "  '£' :  86\n",
            "  '©' :  87\n",
            "  'Ç' :  88\n",
            "  'É' :  89\n",
            "  'à' :  90\n",
            "  'â' :  91\n",
            "  'æ' :  92\n",
            "  'ç' :  93\n",
            "  'è' :  94\n",
            "  'é' :  95\n",
            "  'ê' :  96\n",
            "  'ô' :  97\n",
            "  '—' :  98\n",
            "  '‘' :  99\n",
            "  '’' : 100\n",
            "  '“' : 101\n",
            "  '”' : 102\n",
            "  '•' : 103\n",
            "  '\\ufeff': 104\n",
            "\n",
            " Text to integer: \n",
            "\n",
            "'\\ufeffThe Project Gutenbe' to [104  50  67  64   2  46  77  74  69  64  62  79   2  37  80  79  64  73\n",
            "  61  64]\n"
          ]
        }
      ],
      "source": [
        "print(\"Character to index: \\n\")\n",
        "for char,_ in zip(chartoindex, range(105)):\n",
        "    print('  {:4s}: {:3d}'.format(repr(char), chartoindex[char]))\n",
        "\n",
        "print(\"\\n Text to integer: \\n\")\n",
        "print('{} to {}'.format(repr(book[:20]),int_text[:20]))"
      ]
    },
    {
      "cell_type": "code",
      "execution_count": 7,
      "metadata": {
        "id": "f6QzYrgVwIe0"
      },
      "outputs": [],
      "source": [
        "# Maximum characters as an input\n",
        "length= 80   # sequence length\n",
        "examples_per_epoch = len(book)\n",
        "\n",
        "# Text to character index stream\n",
        "char_dt = tf.data.Dataset.from_tensor_slices(int_text)"
      ]
    },
    {
      "cell_type": "code",
      "execution_count": 8,
      "metadata": {
        "id": "Z6hkH32OwY4U"
      },
      "outputs": [],
      "source": [
        "# Sequences from individual characters\n",
        "sequences = char_dt.batch(length+1, drop_remainder=True)"
      ]
    },
    {
      "cell_type": "code",
      "execution_count": 9,
      "metadata": {
        "id": "wxRcuEfiwhG2"
      },
      "outputs": [],
      "source": [
        "# Create input-target pairs\n",
        "def input_target_pairs(k):\n",
        "    input_text = k[:-1]\n",
        "    target_text = k[1:]          # next step\n",
        "    return input_text, target_text\n",
        "\n",
        "data_text = sequences.map(input_target_pairs)"
      ]
    },
    {
      "cell_type": "code",
      "execution_count": 10,
      "metadata": {
        "colab": {
          "base_uri": "https://localhost:8080/"
        },
        "id": "jfybW1CiwibX",
        "outputId": "3fb8f02a-c89c-4b83-fa48-118354b0a8d8"
      },
      "outputs": [
        {
          "data": {
            "text/plain": [
              "<BatchDataset element_spec=(TensorSpec(shape=(128, 80), dtype=tf.int64, name=None), TensorSpec(shape=(128, 80), dtype=tf.int64, name=None))>"
            ]
          },
          "execution_count": 10,
          "metadata": {},
          "output_type": "execute_result"
        }
      ],
      "source": [
        "# Batch size, buffer size for shuffling\n",
        "batch_size = 128\n",
        "buffer_size = 10000\n",
        "\n",
        "dataset = data_text.shuffle(buffer_size).batch(batch_size , drop_remainder=True)\n",
        "dataset"
      ]
    },
    {
      "cell_type": "code",
      "execution_count": 11,
      "metadata": {
        "colab": {
          "base_uri": "https://localhost:8080/"
        },
        "id": "zQnG75jywcw1",
        "outputId": "48126b9b-ea2a-49d0-ae0c-aa0492682ba0"
      },
      "outputs": [
        {
          "name": "stdout",
          "output_type": "stream",
          "text": [
            "Character_Stream: \n",
            "\n",
            "﻿\n",
            "T\n",
            "h\n",
            "e\n",
            " \n",
            "P\n",
            "r\n",
            "o\n",
            "j\n",
            "e\n",
            "c\n",
            "t\n",
            " \n",
            "\n",
            "Sequence: \n",
            "\n",
            "'\\ufeffThe Project Gutenberg EBook of Poirot Investigates, by Agatha Christie\\r\\n\\r\\nThis e'\n",
            "'Book is for the use of anyone anywhere in the United States and most\\r\\nother parts'\n",
            "' of the world at no cost and with almost no restrictions\\r\\nwhatsoever.  You may co'\n",
            "'py it, give it away or re-use it under the terms of\\r\\nthe Project Gutenberg Licens'\n",
            "'e included with this eBook or online at\\r\\nwww.gutenberg.org.  If you are not locat'\n",
            "\"ed in the United States, you'll have\\r\\nto check the laws of the country where you \"\n",
            "'are located before using this ebook.\\r\\n\\r\\nTitle: Poirot Investigates\\r\\n\\r\\nAuthor: Aga'\n",
            "'tha Christie\\r\\n\\r\\nRelease Date: January 28, 2020 [EBook #61262]\\r\\n\\r\\nLanguage: Englis'\n",
            "'h\\r\\n\\r\\nCharacter set encoding: UTF-8\\r\\n\\r\\n*** START OF THIS PROJECT GUTENBERG EBOOK P'\n",
            "'OIROT INVESTIGATES ***\\r\\n\\r\\n\\r\\n\\r\\n\\r\\nProduced by an anonymous Project Gutenberg volunt'\n",
            "'eer.\\r\\n\\r\\n\\r\\n\\r\\n\\r\\n\\r\\n\\r\\n  POIROT INVESTIGATES\\r\\n\\r\\n\\r\\n\\r\\n\\r\\n  BY THE SAME AUTHOR\\r\\n\\r\\n  THE MY'\n",
            "'STERIOUS AFFAIR AT STYLES\\r\\n\\r\\n  THE SECRET ADVERSARY\\r\\n\\r\\n  THE MURDER ON THE LINKS\\r'\n",
            "'\\n\\r\\n  THE BODLEY HEAD\\r\\n\\r\\n\\r\\n\\r\\n\\r\\n  POIROT INVESTIGATES\\r\\n\\r\\n  BY AGATHA CHRISTIE\\r\\n\\r\\n\\r\\n'\n"
          ]
        }
      ],
      "source": [
        "print(\"Character_Stream: \\n\")\n",
        "for i in char_dt.take(13):\n",
        "  print(indextochar[i.numpy()])  \n",
        "\n",
        "print(\"\\nSequence: \\n\")\n",
        "for i in sequences.take(13):\n",
        "  print(repr(''.join(indextochar[i.numpy()]))) "
      ]
    },
    {
      "cell_type": "code",
      "execution_count": 12,
      "metadata": {
        "id": "w9O8PZhpw_5w"
      },
      "outputs": [],
      "source": [
        "# Create the lstm model\n",
        "def model_lstm(vocabul_size, embedding_dim, rnn_units, batch_size):\n",
        "    txt_model = tf.keras.Sequential([\n",
        "    tf.keras.layers.Embedding(vocabul_size, embedding_dim,           # embedding\n",
        "                              batch_input_shape=[batch_size, None]), \n",
        "    tf.keras.layers.LSTM(rnn_units,                                  # LSTM\n",
        "                        return_sequences=True,\n",
        "                        stateful=True,),\n",
        "    tf.keras.layers.Dense(vocabul_size)                              # Dense\n",
        "  ])\n",
        "    return txt_model"
      ]
    },
    {
      "cell_type": "code",
      "execution_count": 13,
      "metadata": {
        "id": "PEdmSR9zxEwo"
      },
      "outputs": [],
      "source": [
        "batch_size = 128\n",
        "vocabul_size = len(vocab)\n",
        "embedding_dim = 256\n",
        "rnn_units= 1024\n",
        "\n",
        "lstm_txt_model = model_lstm(vocabul_size = vocabul_size,embedding_dim=embedding_dim, rnn_units=rnn_units,batch_size=batch_size)"
      ]
    },
    {
      "cell_type": "code",
      "execution_count": 14,
      "metadata": {
        "colab": {
          "base_uri": "https://localhost:8080/"
        },
        "id": "p_7MS8anxNWv",
        "outputId": "da042bd9-7ddf-403a-c409-24a20884de7b"
      },
      "outputs": [
        {
          "name": "stdout",
          "output_type": "stream",
          "text": [
            "(128, 80, 105)\n"
          ]
        }
      ],
      "source": [
        "# Test the shape\n",
        "for input_example_batch, target_example_batch in dataset.take(1):\n",
        "    prediction = lstm_txt_model(input_example_batch)\n",
        "    assert (prediction.shape == (batch_size, length, vocabul_size)) \n",
        "    print(prediction.shape)"
      ]
    },
    {
      "cell_type": "code",
      "execution_count": 16,
      "metadata": {
        "colab": {
          "base_uri": "https://localhost:8080/"
        },
        "id": "I9QOMG8J5Ka0",
        "outputId": "55fdfd3c-6654-4ba7-f754-a4272dbc6dae"
      },
      "outputs": [
        {
          "name": "stdout",
          "output_type": "stream",
          "text": [
            "Prediction shape:  (128, 80, 105)\n",
            "Loss:       4.654209\n"
          ]
        }
      ],
      "source": [
        "# Loss function\n",
        "def loss(labels, logits):\n",
        "    return tf.keras.losses.sparse_categorical_crossentropy(labels, logits, from_logits=True)\n",
        "\n",
        "# Test the loss\n",
        "example_loss  = loss(target_example_batch, prediction)\n",
        "print(\"Prediction shape: \", prediction.shape)\n",
        "print(\"Loss:      \", example_loss.numpy().mean())"
      ]
    },
    {
      "cell_type": "code",
      "execution_count": 17,
      "metadata": {
        "id": "FE2xwZlBzUAl"
      },
      "outputs": [],
      "source": [
        "# Compile the model\n",
        "lstm_txt_model.compile(optimizer='adam', loss=loss)"
      ]
    },
    {
      "cell_type": "code",
      "execution_count": 18,
      "metadata": {
        "id": "BJ_OKhPGzVA3"
      },
      "outputs": [],
      "source": [
        "# Model checkpoints\n",
        "#lstm_dir_checkpoints = 'lstm_checkpoints'\n",
        "#checkpoint_prefix = os.path.join(lstm_dir_checkpoints, \"checkpt_{epoch}\") \n",
        "#checkpoint_callback=tf.keras.callbacks.ModelCheckpoint(filepath=checkpoint_prefix,save_weights_only=True)"
      ]
    },
    {
      "cell_type": "code",
      "execution_count": 19,
      "metadata": {
        "colab": {
          "base_uri": "https://localhost:8080/"
        },
        "id": "eReFmlQyzJef",
        "outputId": "f1e9700f-a72c-4756-cf5c-bcbbf8ea6cdf"
      },
      "outputs": [
        {
          "name": "stdout",
          "output_type": "stream",
          "text": [
            "Epoch 1/180\n",
            "31/31 [==============================] - 12s 284ms/step - loss: 3.5545\n",
            "Epoch 2/180\n",
            "31/31 [==============================] - 9s 283ms/step - loss: 3.0660\n",
            "Epoch 3/180\n",
            "31/31 [==============================] - 9s 286ms/step - loss: 2.7405\n",
            "Epoch 4/180\n",
            "31/31 [==============================] - 9s 283ms/step - loss: 2.4954\n",
            "Epoch 5/180\n",
            "31/31 [==============================] - 9s 285ms/step - loss: 2.3803\n",
            "Epoch 6/180\n",
            "31/31 [==============================] - 9s 285ms/step - loss: 2.2965\n",
            "Epoch 7/180\n",
            "31/31 [==============================] - 9s 283ms/step - loss: 2.2181\n",
            "Epoch 8/180\n",
            "31/31 [==============================] - 9s 283ms/step - loss: 2.1419\n",
            "Epoch 9/180\n",
            "31/31 [==============================] - 9s 283ms/step - loss: 2.0738\n",
            "Epoch 10/180\n",
            "31/31 [==============================] - 9s 284ms/step - loss: 2.0126\n",
            "Epoch 11/180\n",
            "31/31 [==============================] - 9s 284ms/step - loss: 1.9561\n",
            "Epoch 12/180\n",
            "31/31 [==============================] - 9s 284ms/step - loss: 1.9055\n",
            "Epoch 13/180\n",
            "31/31 [==============================] - 9s 283ms/step - loss: 1.8546\n",
            "Epoch 14/180\n",
            "31/31 [==============================] - 9s 284ms/step - loss: 1.8086\n",
            "Epoch 15/180\n",
            "31/31 [==============================] - 9s 285ms/step - loss: 1.7635\n",
            "Epoch 16/180\n",
            "31/31 [==============================] - 9s 284ms/step - loss: 1.7207\n",
            "Epoch 17/180\n",
            "31/31 [==============================] - 9s 286ms/step - loss: 1.6788\n",
            "Epoch 18/180\n",
            "31/31 [==============================] - 9s 284ms/step - loss: 1.6423\n",
            "Epoch 19/180\n",
            "31/31 [==============================] - 9s 284ms/step - loss: 1.6057\n",
            "Epoch 20/180\n",
            "31/31 [==============================] - 9s 283ms/step - loss: 1.5726\n",
            "Epoch 21/180\n",
            "31/31 [==============================] - 9s 284ms/step - loss: 1.5397\n",
            "Epoch 22/180\n",
            "31/31 [==============================] - 9s 284ms/step - loss: 1.5087\n",
            "Epoch 23/180\n",
            "31/31 [==============================] - 9s 286ms/step - loss: 1.4820\n",
            "Epoch 24/180\n",
            "31/31 [==============================] - 9s 284ms/step - loss: 1.4535\n",
            "Epoch 25/180\n",
            "31/31 [==============================] - 9s 284ms/step - loss: 1.4273\n",
            "Epoch 26/180\n",
            "31/31 [==============================] - 9s 283ms/step - loss: 1.4032\n",
            "Epoch 27/180\n",
            "31/31 [==============================] - 9s 283ms/step - loss: 1.3938\n",
            "Epoch 28/180\n",
            "31/31 [==============================] - 9s 282ms/step - loss: 1.3567\n",
            "Epoch 29/180\n",
            "31/31 [==============================] - 9s 284ms/step - loss: 1.3379\n",
            "Epoch 30/180\n",
            "31/31 [==============================] - 9s 283ms/step - loss: 1.3142\n",
            "Epoch 31/180\n",
            "31/31 [==============================] - 9s 284ms/step - loss: 1.2927\n",
            "Epoch 32/180\n",
            "31/31 [==============================] - 9s 285ms/step - loss: 1.2737\n",
            "Epoch 33/180\n",
            "31/31 [==============================] - 9s 285ms/step - loss: 1.2512\n",
            "Epoch 34/180\n",
            "31/31 [==============================] - 9s 283ms/step - loss: 1.2329\n",
            "Epoch 35/180\n",
            "31/31 [==============================] - 9s 284ms/step - loss: 1.2117\n",
            "Epoch 36/180\n",
            "31/31 [==============================] - 9s 284ms/step - loss: 1.1925\n",
            "Epoch 37/180\n",
            "31/31 [==============================] - 9s 284ms/step - loss: 1.1733\n",
            "Epoch 38/180\n",
            "31/31 [==============================] - 9s 284ms/step - loss: 1.1524\n",
            "Epoch 39/180\n",
            "31/31 [==============================] - 9s 283ms/step - loss: 1.1333\n",
            "Epoch 40/180\n",
            "31/31 [==============================] - 9s 283ms/step - loss: 1.1112\n",
            "Epoch 41/180\n",
            "31/31 [==============================] - 9s 284ms/step - loss: 1.0877\n",
            "Epoch 42/180\n",
            "31/31 [==============================] - 9s 284ms/step - loss: 1.0683\n",
            "Epoch 43/180\n",
            "31/31 [==============================] - 9s 283ms/step - loss: 1.0476\n",
            "Epoch 44/180\n",
            "31/31 [==============================] - 9s 285ms/step - loss: 1.0256\n",
            "Epoch 45/180\n",
            "31/31 [==============================] - 9s 282ms/step - loss: 1.0051\n",
            "Epoch 46/180\n",
            "31/31 [==============================] - 9s 284ms/step - loss: 0.9833\n",
            "Epoch 47/180\n",
            "31/31 [==============================] - 9s 285ms/step - loss: 0.9610\n",
            "Epoch 48/180\n",
            "31/31 [==============================] - 9s 286ms/step - loss: 0.9371\n",
            "Epoch 49/180\n",
            "31/31 [==============================] - 9s 284ms/step - loss: 0.9139\n",
            "Epoch 50/180\n",
            "31/31 [==============================] - 9s 284ms/step - loss: 0.8941\n",
            "Epoch 51/180\n",
            "31/31 [==============================] - 9s 285ms/step - loss: 0.8705\n",
            "Epoch 52/180\n",
            "31/31 [==============================] - 9s 284ms/step - loss: 0.8474\n",
            "Epoch 53/180\n",
            "31/31 [==============================] - 9s 284ms/step - loss: 0.8208\n",
            "Epoch 54/180\n",
            "31/31 [==============================] - 9s 285ms/step - loss: 0.8013\n",
            "Epoch 55/180\n",
            "31/31 [==============================] - 9s 283ms/step - loss: 0.7825\n",
            "Epoch 56/180\n",
            "31/31 [==============================] - 9s 286ms/step - loss: 0.7596\n",
            "Epoch 57/180\n",
            "31/31 [==============================] - 9s 287ms/step - loss: 0.7389\n",
            "Epoch 58/180\n",
            "31/31 [==============================] - 9s 288ms/step - loss: 0.7159\n",
            "Epoch 59/180\n",
            "31/31 [==============================] - 9s 285ms/step - loss: 0.6939\n",
            "Epoch 60/180\n",
            "31/31 [==============================] - 9s 284ms/step - loss: 0.6725\n",
            "Epoch 61/180\n",
            "31/31 [==============================] - 9s 285ms/step - loss: 0.6533\n",
            "Epoch 62/180\n",
            "31/31 [==============================] - 9s 283ms/step - loss: 0.6317\n",
            "Epoch 63/180\n",
            "31/31 [==============================] - 9s 285ms/step - loss: 0.6167\n",
            "Epoch 64/180\n",
            "31/31 [==============================] - 9s 283ms/step - loss: 0.5962\n",
            "Epoch 65/180\n",
            "31/31 [==============================] - 9s 283ms/step - loss: 0.5830\n",
            "Epoch 66/180\n",
            "31/31 [==============================] - 9s 284ms/step - loss: 0.5684\n",
            "Epoch 67/180\n",
            "31/31 [==============================] - 9s 284ms/step - loss: 0.5485\n",
            "Epoch 68/180\n",
            "31/31 [==============================] - 9s 283ms/step - loss: 0.5356\n",
            "Epoch 69/180\n",
            "31/31 [==============================] - 9s 285ms/step - loss: 0.5177\n",
            "Epoch 70/180\n",
            "31/31 [==============================] - 9s 286ms/step - loss: 0.5063\n",
            "Epoch 71/180\n",
            "31/31 [==============================] - 9s 286ms/step - loss: 0.4919\n",
            "Epoch 72/180\n",
            "31/31 [==============================] - 9s 285ms/step - loss: 0.4798\n",
            "Epoch 73/180\n",
            "31/31 [==============================] - 9s 284ms/step - loss: 0.4695\n",
            "Epoch 74/180\n",
            "31/31 [==============================] - 9s 284ms/step - loss: 0.4608\n",
            "Epoch 75/180\n",
            "31/31 [==============================] - 9s 285ms/step - loss: 0.4486\n",
            "Epoch 76/180\n",
            "31/31 [==============================] - 9s 284ms/step - loss: 0.4407\n",
            "Epoch 77/180\n",
            "31/31 [==============================] - 9s 285ms/step - loss: 0.4288\n",
            "Epoch 78/180\n",
            "31/31 [==============================] - 9s 284ms/step - loss: 0.4226\n",
            "Epoch 79/180\n",
            "31/31 [==============================] - 9s 285ms/step - loss: 0.4137\n",
            "Epoch 80/180\n",
            "31/31 [==============================] - 9s 282ms/step - loss: 0.4070\n",
            "Epoch 81/180\n",
            "31/31 [==============================] - 9s 287ms/step - loss: 0.4008\n",
            "Epoch 82/180\n",
            "31/31 [==============================] - 9s 284ms/step - loss: 0.3918\n",
            "Epoch 83/180\n",
            "31/31 [==============================] - 9s 285ms/step - loss: 0.3858\n",
            "Epoch 84/180\n",
            "31/31 [==============================] - 9s 286ms/step - loss: 0.3805\n",
            "Epoch 85/180\n",
            "31/31 [==============================] - 9s 285ms/step - loss: 0.3765\n",
            "Epoch 86/180\n",
            "31/31 [==============================] - 9s 284ms/step - loss: 0.3715\n",
            "Epoch 87/180\n",
            "31/31 [==============================] - 9s 286ms/step - loss: 0.3628\n",
            "Epoch 88/180\n",
            "31/31 [==============================] - 9s 285ms/step - loss: 0.3576\n",
            "Epoch 89/180\n",
            "31/31 [==============================] - 9s 284ms/step - loss: 0.3550\n",
            "Epoch 90/180\n",
            "31/31 [==============================] - 9s 283ms/step - loss: 0.3505\n",
            "Epoch 91/180\n",
            "31/31 [==============================] - 9s 284ms/step - loss: 0.3482\n",
            "Epoch 92/180\n",
            "31/31 [==============================] - 9s 285ms/step - loss: 0.3442\n",
            "Epoch 93/180\n",
            "31/31 [==============================] - 9s 285ms/step - loss: 0.3397\n",
            "Epoch 94/180\n",
            "31/31 [==============================] - 9s 284ms/step - loss: 0.3337\n",
            "Epoch 95/180\n",
            "31/31 [==============================] - 9s 286ms/step - loss: 0.3333\n",
            "Epoch 96/180\n",
            "31/31 [==============================] - 9s 283ms/step - loss: 0.3289\n",
            "Epoch 97/180\n",
            "31/31 [==============================] - 9s 285ms/step - loss: 0.3257\n",
            "Epoch 98/180\n",
            "31/31 [==============================] - 9s 284ms/step - loss: 0.3233\n",
            "Epoch 99/180\n",
            "31/31 [==============================] - 9s 285ms/step - loss: 0.3209\n",
            "Epoch 100/180\n",
            "31/31 [==============================] - 9s 283ms/step - loss: 0.3153\n",
            "Epoch 101/180\n",
            "31/31 [==============================] - 9s 285ms/step - loss: 0.3155\n",
            "Epoch 102/180\n",
            "31/31 [==============================] - 9s 283ms/step - loss: 0.3150\n",
            "Epoch 103/180\n",
            "31/31 [==============================] - 9s 285ms/step - loss: 0.3085\n",
            "Epoch 104/180\n",
            "31/31 [==============================] - 9s 284ms/step - loss: 0.3094\n",
            "Epoch 105/180\n",
            "31/31 [==============================] - 9s 284ms/step - loss: 0.3044\n",
            "Epoch 106/180\n",
            "31/31 [==============================] - 9s 286ms/step - loss: 0.3024\n",
            "Epoch 107/180\n",
            "31/31 [==============================] - 9s 285ms/step - loss: 0.2992\n",
            "Epoch 108/180\n",
            "31/31 [==============================] - 9s 285ms/step - loss: 0.2977\n",
            "Epoch 109/180\n",
            "31/31 [==============================] - 9s 285ms/step - loss: 0.2965\n",
            "Epoch 110/180\n",
            "31/31 [==============================] - 9s 285ms/step - loss: 0.2943\n",
            "Epoch 111/180\n",
            "31/31 [==============================] - 9s 285ms/step - loss: 0.2920\n",
            "Epoch 112/180\n",
            "31/31 [==============================] - 9s 285ms/step - loss: 0.2902\n",
            "Epoch 113/180\n",
            "31/31 [==============================] - 9s 286ms/step - loss: 0.2851\n",
            "Epoch 114/180\n",
            "31/31 [==============================] - 9s 284ms/step - loss: 0.2848\n",
            "Epoch 115/180\n",
            "31/31 [==============================] - 9s 284ms/step - loss: 0.2853\n",
            "Epoch 116/180\n",
            "31/31 [==============================] - 9s 285ms/step - loss: 0.2835\n",
            "Epoch 117/180\n",
            "31/31 [==============================] - 9s 285ms/step - loss: 0.2823\n",
            "Epoch 118/180\n",
            "31/31 [==============================] - 9s 285ms/step - loss: 0.2809\n",
            "Epoch 119/180\n",
            "31/31 [==============================] - 9s 285ms/step - loss: 0.2788\n",
            "Epoch 120/180\n",
            "31/31 [==============================] - 9s 285ms/step - loss: 0.2757\n",
            "Epoch 121/180\n",
            "31/31 [==============================] - 9s 284ms/step - loss: 0.2737\n",
            "Epoch 122/180\n",
            "31/31 [==============================] - 9s 285ms/step - loss: 0.2723\n",
            "Epoch 123/180\n",
            "31/31 [==============================] - 9s 284ms/step - loss: 0.2711\n",
            "Epoch 124/180\n",
            "31/31 [==============================] - 9s 287ms/step - loss: 0.2703\n",
            "Epoch 125/180\n",
            "31/31 [==============================] - 9s 285ms/step - loss: 0.2647\n",
            "Epoch 126/180\n",
            "31/31 [==============================] - 9s 285ms/step - loss: 0.2669\n",
            "Epoch 127/180\n",
            "31/31 [==============================] - 9s 283ms/step - loss: 0.2664\n",
            "Epoch 128/180\n",
            "31/31 [==============================] - 9s 282ms/step - loss: 0.2642\n",
            "Epoch 129/180\n",
            "31/31 [==============================] - 9s 284ms/step - loss: 0.2610\n",
            "Epoch 130/180\n",
            "31/31 [==============================] - 9s 286ms/step - loss: 0.2623\n",
            "Epoch 131/180\n",
            "31/31 [==============================] - 9s 286ms/step - loss: 0.2597\n",
            "Epoch 132/180\n",
            "31/31 [==============================] - 9s 283ms/step - loss: 0.2593\n",
            "Epoch 133/180\n",
            "31/31 [==============================] - 9s 284ms/step - loss: 0.2580\n",
            "Epoch 134/180\n",
            "31/31 [==============================] - 9s 284ms/step - loss: 0.2554\n",
            "Epoch 135/180\n",
            "31/31 [==============================] - 9s 285ms/step - loss: 0.2548\n",
            "Epoch 136/180\n",
            "31/31 [==============================] - 9s 284ms/step - loss: 0.2542\n",
            "Epoch 137/180\n",
            "31/31 [==============================] - 9s 286ms/step - loss: 0.2529\n",
            "Epoch 138/180\n",
            "31/31 [==============================] - 9s 285ms/step - loss: 0.2514\n",
            "Epoch 139/180\n",
            "31/31 [==============================] - 9s 284ms/step - loss: 0.2510\n",
            "Epoch 140/180\n",
            "31/31 [==============================] - 9s 285ms/step - loss: 0.2494\n",
            "Epoch 141/180\n",
            "31/31 [==============================] - 9s 286ms/step - loss: 0.2486\n",
            "Epoch 142/180\n",
            "31/31 [==============================] - 9s 285ms/step - loss: 0.2488\n",
            "Epoch 143/180\n",
            "31/31 [==============================] - 9s 284ms/step - loss: 0.2462\n",
            "Epoch 144/180\n",
            "31/31 [==============================] - 9s 283ms/step - loss: 0.2453\n",
            "Epoch 145/180\n",
            "31/31 [==============================] - 9s 286ms/step - loss: 0.2448\n",
            "Epoch 146/180\n",
            "31/31 [==============================] - 9s 285ms/step - loss: 0.2452\n",
            "Epoch 147/180\n",
            "31/31 [==============================] - 9s 283ms/step - loss: 0.2420\n",
            "Epoch 148/180\n",
            "31/31 [==============================] - 9s 284ms/step - loss: 0.2419\n",
            "Epoch 149/180\n",
            "31/31 [==============================] - 9s 284ms/step - loss: 0.2411\n",
            "Epoch 150/180\n",
            "31/31 [==============================] - 9s 285ms/step - loss: 0.2410\n",
            "Epoch 151/180\n",
            "31/31 [==============================] - 9s 285ms/step - loss: 0.2385\n",
            "Epoch 152/180\n",
            "31/31 [==============================] - 9s 284ms/step - loss: 0.2384\n",
            "Epoch 153/180\n",
            "31/31 [==============================] - 9s 285ms/step - loss: 0.2353\n",
            "Epoch 154/180\n",
            "31/31 [==============================] - 9s 285ms/step - loss: 0.2362\n",
            "Epoch 155/180\n",
            "31/31 [==============================] - 9s 284ms/step - loss: 0.2343\n",
            "Epoch 156/180\n",
            "31/31 [==============================] - 9s 284ms/step - loss: 0.2336\n",
            "Epoch 157/180\n",
            "31/31 [==============================] - 9s 285ms/step - loss: 0.2306\n",
            "Epoch 158/180\n",
            "31/31 [==============================] - 9s 284ms/step - loss: 0.2326\n",
            "Epoch 159/180\n",
            "31/31 [==============================] - 9s 285ms/step - loss: 0.2321\n",
            "Epoch 160/180\n",
            "31/31 [==============================] - 9s 286ms/step - loss: 0.2284\n",
            "Epoch 161/180\n",
            "31/31 [==============================] - 9s 285ms/step - loss: 0.2305\n",
            "Epoch 162/180\n",
            "31/31 [==============================] - 9s 285ms/step - loss: 0.2290\n",
            "Epoch 163/180\n",
            "31/31 [==============================] - 9s 285ms/step - loss: 0.2282\n",
            "Epoch 164/180\n",
            "31/31 [==============================] - 9s 283ms/step - loss: 0.2284\n",
            "Epoch 165/180\n",
            "31/31 [==============================] - 9s 285ms/step - loss: 0.2273\n",
            "Epoch 166/180\n",
            "31/31 [==============================] - 9s 285ms/step - loss: 0.2254\n",
            "Epoch 167/180\n",
            "31/31 [==============================] - 9s 283ms/step - loss: 0.2241\n",
            "Epoch 168/180\n",
            "31/31 [==============================] - 9s 285ms/step - loss: 0.2253\n",
            "Epoch 169/180\n",
            "31/31 [==============================] - 9s 286ms/step - loss: 0.2253\n",
            "Epoch 170/180\n",
            "31/31 [==============================] - 9s 284ms/step - loss: 0.2226\n",
            "Epoch 171/180\n",
            "31/31 [==============================] - 9s 285ms/step - loss: 0.2232\n",
            "Epoch 172/180\n",
            "31/31 [==============================] - 9s 284ms/step - loss: 0.2204\n",
            "Epoch 173/180\n",
            "31/31 [==============================] - 9s 284ms/step - loss: 0.2209\n",
            "Epoch 174/180\n",
            "31/31 [==============================] - 9s 284ms/step - loss: 0.2197\n",
            "Epoch 175/180\n",
            "31/31 [==============================] - 9s 285ms/step - loss: 0.2197\n",
            "Epoch 176/180\n",
            "31/31 [==============================] - 9s 284ms/step - loss: 0.2189\n",
            "Epoch 177/180\n",
            "31/31 [==============================] - 9s 285ms/step - loss: 0.2195\n",
            "Epoch 178/180\n",
            "31/31 [==============================] - 9s 284ms/step - loss: 0.2173\n",
            "Epoch 179/180\n",
            "31/31 [==============================] - 9s 286ms/step - loss: 0.2158\n",
            "Epoch 180/180\n",
            "31/31 [==============================] - 9s 285ms/step - loss: 0.2160\n"
          ]
        }
      ],
      "source": [
        "#history = lstm_txt_model.fit(dataset, epochs=180, callbacks=[checkpoint_callback]) # train the model for 6 times,55 epochs each "
      ]
    },
    {
      "cell_type": "code",
      "execution_count": 20,
      "metadata": {
        "id": "eJ3D3w7gBirX"
      },
      "outputs": [],
      "source": [
        "# load the weights(I chose to load the weights of epoch n.179/50 (with lower loss) the time we trained the model )\n",
        "lstm_mod = model_lstm(vocabul_size, embedding_dim, rnn_units, batch_size=1)\n",
        "lstm_mod.load_weights('/content/lstm_checkpoints/checkpt_179').expect_partial()\n",
        "lstm_mod.build(tf.TensorShape([1, None]))"
      ]
    },
    {
      "cell_type": "code",
      "execution_count": 21,
      "metadata": {
        "colab": {
          "base_uri": "https://localhost:8080/"
        },
        "id": "ciVFYrpaq0ap",
        "outputId": "08a7ef8c-f799-46ee-ed7b-8c732c66d94c"
      },
      "outputs": [
        {
          "name": "stdout",
          "output_type": "stream",
          "text": [
            "WARNING:tensorflow:Compiled the loaded model, but the compiled metrics have yet to be built. `model.compile_metrics` will be empty until you train or evaluate the model.\n"
          ]
        }
      ],
      "source": [
        "lstm_mod.save('/content/lstm_checkpoints.h5')"
      ]
    },
    {
      "cell_type": "code",
      "execution_count": 22,
      "metadata": {
        "id": "hT92uRsdzy6S"
      },
      "outputs": [],
      "source": [
        "# Function to generate text\n",
        "def generate_text(model, input_string):\n",
        "    num = 50                 # chars to be generated\n",
        "\n",
        "    for_input = [chartoindex[s] for s in input_string]  # text to indexes\n",
        "    for_input = tf.expand_dims(for_input, 0)\n",
        "\n",
        "    # result with predicted characters\n",
        "    text_result = []\n",
        "\n",
        "    # Set temperature\n",
        "    temperature = 0.5\n",
        "\n",
        "    model.reset_states()\n",
        "    for i in range(num):\n",
        "        predictions = model(for_input)\n",
        "        # Remove the dimension from batch\n",
        "        predictions = tf.squeeze(predictions, 0)\n",
        "\n",
        "        # Categorical distribution for prediction\n",
        "        predictions = predictions / temperature\n",
        "        predicted_id = tf.random.categorical(predictions, num_samples=1)[-1,0].numpy()\n",
        "\n",
        "        # Pass the predicted character\n",
        "        for_input = tf.expand_dims([predicted_id], 0)\n",
        "        text_result.append(indextochar[predicted_id])\n",
        "\n",
        "    return (input_string + ''.join(text_result))"
      ]
    },
    {
      "cell_type": "code",
      "execution_count": 23,
      "metadata": {
        "colab": {
          "base_uri": "https://localhost:8080/"
        },
        "id": "g5a69FIkzzyb",
        "outputId": "b3322711-7f2b-4ac8-fd80-ef2ec4cbe1fa"
      },
      "outputs": [
        {
          "name": "stdout",
          "output_type": "stream",
          "text": [
            "Enter your text: This telegram has\n",
            "This telegram has been a man. His right hand still grasped the base\n"
          ]
        }
      ],
      "source": [
        "# User Input \n",
        "lstm_pred = input(\"Enter your text: \")\n",
        "# Prediction\n",
        "print(generate_text(lstm_mod, input_string=lstm_pred))"
      ]
    }
  ],
  "metadata": {
    "accelerator": "GPU",
    "colab": {
      "collapsed_sections": [],
      "name": "210468180_Language_Model (1).ipynb",
      "provenance": []
    },
    "kernelspec": {
      "display_name": "Python 3",
      "name": "python3"
    }
  },
  "nbformat": 4,
  "nbformat_minor": 0
}
